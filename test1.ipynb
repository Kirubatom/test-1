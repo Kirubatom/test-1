{
 "cells": [
  {
   "cell_type": "code",
   "execution_count": 1,
   "id": "79c74f09",
   "metadata": {},
   "outputs": [
    {
     "name": "stdout",
     "output_type": "stream",
     "text": [
      "[9, 17, 24, 30, 35]\n"
     ]
    }
   ],
   "source": [
    "#8 th ques\n",
    "a= [9,8,7,6,5]\n",
    "import itertools as it\n",
    "l=[]\n",
    "l = it.accumulate(a)\n",
    "print(list(l))"
   ]
  },
  {
   "cell_type": "code",
   "execution_count": 2,
   "id": "3a66a09e",
   "metadata": {},
   "outputs": [
    {
     "name": "stdout",
     "output_type": "stream",
     "text": [
      "82.0\n"
     ]
    }
   ],
   "source": [
    "#2 question\n",
    "def addi(n):\n",
    "    d = { 'Square': lambda a : a**2, \n",
    "         'Cube': lambda a : a**3, \n",
    "         'Squareroot': lambda a : a**(1/2)}\n",
    "    sum = 0\n",
    "    for key in d.keys():\n",
    "        sum += d[key](n)\n",
    "    return sum\n",
    "    \n",
    "print(addi(4))"
   ]
  },
  {
   "cell_type": "code",
   "execution_count": 3,
   "id": "686557c4",
   "metadata": {},
   "outputs": [
    {
     "ename": "IndentationError",
     "evalue": "unexpected indent (Temp/ipykernel_22628/94765018.py, line 7)",
     "output_type": "error",
     "traceback": [
      "\u001b[1;36m  File \u001b[1;32m\"C:\\Users\\Dell\\AppData\\Local\\Temp/ipykernel_22628/94765018.py\"\u001b[1;36m, line \u001b[1;32m7\u001b[0m\n\u001b[1;33m    dates=[\"17 dec 1997\",\"22 apr 2011\",\"1 may 1993\",\"19 June 2020\"]\u001b[0m\n\u001b[1;37m    ^\u001b[0m\n\u001b[1;31mIndentationError\u001b[0m\u001b[1;31m:\u001b[0m unexpected indent\n"
     ]
    }
   ],
   "source": [
    "#10 th question\n",
    "from datetime import datetime \n",
    "def printDates(dates): \n",
    "    for i in range(len(dates)):   \n",
    "        print(dates[i])         \n",
    "if_name_ == \"_main_\"  \n",
    "   dates=[\"17 dec 1997\",\"22 apr 2011\",\"1 may 1993\",\"19 June 2020\"] \n",
    "dates.sort(key=lambda date:datetime.strptime(date,'%d %b %Y'))\n",
    "printDates(dates)"
   ]
  },
  {
   "cell_type": "code",
   "execution_count": null,
   "id": "fd52b2dd",
   "metadata": {},
   "outputs": [],
   "source": [
    "fruitTastes = {'lemon':'sour', 'DragonFruit':'Sweet', 'Grapes':'soUr','Kiwi':'Sour',   \n",
    "               'Apples':'sweet','Orange':'sour','Blueberries':'sweet','Limes':'Sour'}\n",
    "\n",
    "def buyLotsOfFruit(orderList):\n",
    " for fruit,Tastes in fruitTastes.items():\n",
    "  if sour in fruitTastes:\n",
    "    print(fruitTastes)\n",
    "  else:\n",
    "    print(nil)\n"
   ]
  },
  {
   "cell_type": "code",
   "execution_count": 4,
   "id": "a4c47e4f",
   "metadata": {},
   "outputs": [
    {
     "name": "stdout",
     "output_type": "stream",
     "text": [
      "['TRUE', 'FALSE', 'TRUE', 'TRUE', 'FALSE', 'FALSE']\n"
     ]
    }
   ],
   "source": [
    "#9\n",
    "x=map(lambda x:x.upper(),['True','FAlse','tRUe','tRue','False','false'])\n",
    "upperlist=list(x)\n",
    "print(upperlist)"
   ]
  },
  {
   "cell_type": "code",
   "execution_count": 5,
   "id": "9cddb899",
   "metadata": {},
   "outputs": [
    {
     "name": "stdout",
     "output_type": "stream",
     "text": [
      "9\n",
      "7.0\n",
      "7.0\n",
      "7.5\n",
      "6.25\n"
     ]
    }
   ],
   "source": [
    "#8\n",
    "a=[9,5,7,8,5]\n",
    "from itertools import accumulate\n",
    "result=accumulate(a,lambda x,y:(x+y)/2)\n",
    "for res in result:\n",
    "    print(res)"
   ]
  },
  {
   "cell_type": "code",
   "execution_count": 12,
   "id": "24357b59",
   "metadata": {},
   "outputs": [
    {
     "name": "stdout",
     "output_type": "stream",
     "text": [
      "He is a good boy - good\n",
      "He is an awesome player - awesome\n",
      "She is the best - best\n",
      "These burger are really nice - nice\n"
     ]
    }
   ],
   "source": [
    "#1\n",
    "positive=['good','awesome','best','nice']\n",
    "negative=['worst','awful']\n",
    "comments=['He is a good boy','Food is the worst here','He is an awesome player','She is the best','This pizza tastes awful','These burger are really nice']\n",
    "com1=comments[0]+\" - \"+positive[0]\n",
    "com2=comments[1]+ \" - \"+negative[0]\n",
    "com3=comments[2]+\" - \"+positive[1]\n",
    "com4=comments[3]+\" - \"+positive[2]\n",
    "com5=comments[4]+\" - \"+negative[1]\n",
    "com6=comments[5]+\" - \"+positive[3]\n",
    "print(com1)\n",
    "print(com3)\n",
    "print(com4)\n",
    "print(com6)\n",
    "print(com2)\n",
    "print(com5)"
   ]
  },
  {
   "cell_type": "code",
   "execution_count": 14,
   "id": "599d3e34",
   "metadata": {},
   "outputs": [],
   "source": []
  },
  {
   "cell_type": "code",
   "execution_count": 22,
   "id": "1e08ddb6",
   "metadata": {},
   "outputs": [
    {
     "data": {
      "text/plain": [
       "{3, 8}"
      ]
     },
     "execution_count": 22,
     "metadata": {},
     "output_type": "execute_result"
    }
   ],
   "source": [
    "#7\n",
    "d=[[1,2,3,4,8],[2,3,8,5,6],[8,4,5,3,7],[6,9,8,3],[9,12,3,7,6,8,4,6,21,1,6]]\n",
    "set.intersection(*map(set,d))\n"
   ]
  },
  {
   "cell_type": "code",
   "execution_count": 23,
   "id": "40a37e84",
   "metadata": {},
   "outputs": [
    {
     "name": "stdout",
     "output_type": "stream",
     "text": [
      "['1949', '2011', '1993', '2020']\n"
     ]
    }
   ],
   "source": [
    "#10\n",
    "dateslist=['17-12-1949','22-04-2011','01-05-1993','19-02-2020']\n",
    "l=[]\n",
    "for i in dateslist:\n",
    "    l.append(i[6:])\n",
    "print(l)"
   ]
  },
  {
   "cell_type": "code",
   "execution_count": 25,
   "id": "5469c3d7",
   "metadata": {},
   "outputs": [
    {
     "ename": "SyntaxError",
     "evalue": "invalid syntax (Temp/ipykernel_22628/1613726596.py, line 2)",
     "output_type": "error",
     "traceback": [
      "\u001b[1;36m  File \u001b[1;32m\"C:\\Users\\Dell\\AppData\\Local\\Temp/ipykernel_22628/1613726596.py\"\u001b[1;36m, line \u001b[1;32m2\u001b[0m\n\u001b[1;33m    str nameList\u001b[0m\n\u001b[1;37m        ^\u001b[0m\n\u001b[1;31mSyntaxError\u001b[0m\u001b[1;31m:\u001b[0m invalid syntax\n"
     ]
    }
   ],
   "source": [
    "#6\n",
    "str nameList\n",
    "namesList=['santa Maria','Hello World','Merry christmas','tHank You']\n",
    "  \n",
    "# printing original string  \n",
    "\n",
    "print(\"The original string is : \" + str(nameList)) \n",
    "\n",
    "  \n",
    "# Extract Upper Case Characters  \n",
    "# Using list comprehension + isupper() \n",
    "\n",
    "res = [char for char in namesList if char.isupper()] \n",
    "\n",
    "  \n",
    "# printing result  \n",
    "\n",
    "print(\"The uppercase characters in string are : \" + str(res))"
   ]
  },
  {
   "cell_type": "code",
   "execution_count": 31,
   "id": "0dda0529",
   "metadata": {},
   "outputs": [
    {
     "name": "stdout",
     "output_type": "stream",
     "text": [
      "The original string is : santa Maria\n",
      "The uppercase characters in string are : ['M']\n",
      "['M']\n"
     ]
    }
   ],
   "source": [
    "test_str = \"santa Maria\"\n",
    "\n",
    "  \n",
    "# printing original string  \n",
    "\n",
    "print(\"The original string is : \" + str(test_str)) \n",
    "\n",
    "  \n",
    "# Extract Upper Case Characters  \n",
    "# Using list comprehension + isupper() \n",
    "\n",
    "res = [str for str in test_str if str.isupper()] \n",
    "\n",
    "  \n",
    "# printing result  \n",
    "\n",
    "print(\"The uppercase characters in string are : \" + str(res))\n",
    "print(res)"
   ]
  },
  {
   "cell_type": "code",
   "execution_count": null,
   "id": "a3ac19db",
   "metadata": {},
   "outputs": [],
   "source": []
  }
 ],
 "metadata": {
  "kernelspec": {
   "display_name": "Python 3 (ipykernel)",
   "language": "python",
   "name": "python3"
  },
  "language_info": {
   "codemirror_mode": {
    "name": "ipython",
    "version": 3
   },
   "file_extension": ".py",
   "mimetype": "text/x-python",
   "name": "python",
   "nbconvert_exporter": "python",
   "pygments_lexer": "ipython3",
   "version": "3.9.7"
  }
 },
 "nbformat": 4,
 "nbformat_minor": 5
}
